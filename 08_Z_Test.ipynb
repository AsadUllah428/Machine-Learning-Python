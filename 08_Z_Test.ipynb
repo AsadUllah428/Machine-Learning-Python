{
 "cells": [
  {
   "cell_type": "markdown",
   "metadata": {},
   "source": [
    "# Lecture on Z-Score and StandardScaler"
   ]
  },
  {
   "cell_type": "markdown",
   "metadata": {},
   "source": [
    "## 1. What is a Z-Score?"
   ]
  },
  {
   "cell_type": "markdown",
   "metadata": {},
   "source": [
    "A **Z-score** (also known as a standard score) is a numerical measurement that describes a value's relationship to the mean of a group of values. Z-scores are measured in terms of standard deviations from the mean. A Z-score of **0** indicates the data point's score is identical to the mean score. A Z-score of **1.0** means the data point is one standard deviation from the mean."
   ]
  },
  {
   "cell_type": "markdown",
   "metadata": {},
   "source": [
    "### Why is the Z-score important?\n",
    "\n",
    "- **Standardization:** It allows for the comparison of scores from different normal distributions. For example, comparing a student's performance in two different subjects with different grading scales.\n",
    "- **Outlier Detection:** Scores with a very high or very low Z-score (e.g., beyond $$\\pm3$$) are often considered outliers.\n",
    "- **Probability Calculation:** It can be used with a Z-table to find the probability of a score occurring within a normal distribution."
   ]
  },
  {
   "cell_type": "markdown",
   "metadata": {},
   "source": [
    "## 2. The Formula"
   ]
  },
  {
   "cell_type": "markdown",
   "metadata": {},
   "source": [
    "The formula for calculating a Z-score is:\n",
    "\n",
    "$$ Z = \\frac{x - \\mu}{\\sigma} $$\n",
    "\n",
    "Where:\n",
    "- X is the raw score or data point.\n",
    "- \\mu is the population mean.\n",
    "- \\sigma is the population standard deviation."
   ]
  },
  {
   "cell_type": "markdown",
   "metadata": {},
   "source": [
    "## 3. Example 1: Simple Calculation"
   ]
  },
  {
   "cell_type": "markdown",
   "metadata": {},
   "source": [
    "Let's say a class's average score on a test ($$\\mu$$) is 75, and the standard deviation ($$\\sigma$$) is 10. A student scores 90 on the test ($$x$$). What is their Z-score?"
   ]
  },
  {
   "cell_type": "code",
   "execution_count": 1,
   "metadata": {},
   "outputs": [
    {
     "name": "stdout",
     "output_type": "stream",
     "text": [
      "The Z-score for a score of 90 is: 1.5\n"
     ]
    }
   ],
   "source": [
    "# Python code to calculate Z-score\n",
    "\n",
    "# Define the variables\n",
    "mu = 75       # Population mean\n",
    "sigma = 10    # Population standard deviation\n",
    "x = 90        # Raw score of the student\n",
    "\n",
    "# Calculate the Z-score\n",
    "z_score = (x - mu) / sigma\n",
    "\n",
    "# Print the result\n",
    "print(f\"The Z-score for a score of {x} is: {z_score}\")\n",
    "\n",
    "# Interpretation of the result\n",
    "# A Z-score of 1.5 means the student's score is 1.5 standard deviations above the mean."
   ]
  },
  {
   "cell_type": "markdown",
   "metadata": {},
   "source": [
    "## 4. Example 2: Comparing Scores"
   ]
  },
  {
   "cell_type": "markdown",
   "metadata": {},
   "source": [
    "Imagine a student gets a 65 on a math test and a 70 on a science test. At first glance, it seems they did better in science. However, let's consider the class statistics:\n",
    "\n",
    "- **Math Test:** $$\\mu_{math} = 60$$, $$\\sigma_{math} = 5$$\n",
    "- **Science Test:** $$\\mu_{science} = 65$$, $$\\sigma_{science} = 10$$\n",
    "\n",
    "Let's use Z-scores to see which performance was relatively better."
   ]
  },
  {
   "cell_type": "code",
   "execution_count": 2,
   "metadata": {},
   "outputs": [
    {
     "name": "stdout",
     "output_type": "stream",
     "text": [
      "Z-score for Math: 1.0\n",
      "Z-score for Science: 0.5\n",
      "The student performed relatively better in Math.\n"
     ]
    }
   ],
   "source": [
    "# Python code to compare scores using Z-scores\n",
    "\n",
    "# Math Test details\n",
    "x_math = 65\n",
    "mu_math = 60\n",
    "sigma_math = 5\n",
    "\n",
    "# Science Test details\n",
    "x_science = 70\n",
    "mu_science = 65\n",
    "sigma_science = 10\n",
    "\n",
    "# Calculate Z-score for Math\n",
    "z_score_math = (x_math - mu_math) / sigma_math\n",
    "\n",
    "# Calculate Z-score for Science\n",
    "z_score_science = (x_science - mu_science) / sigma_science\n",
    "\n",
    "# Print the results\n",
    "print(f\"Z-score for Math: {z_score_math}\")\n",
    "print(f\"Z-score for Science: {z_score_science}\")\n",
    "\n",
    "# Compare the scores\n",
    "if z_score_math > z_score_science:\n",
    "    print(\"The student performed relatively better in Math.\")\n",
    "elif z_score_science > z_score_math:\n",
    "    print(\"The student performed relatively better in Science.\")\n",
    "else:\n",
    "    print(\"The student performed equally well relative to their peers in both subjects.\")"
   ]
  },
  {
   "cell_type": "markdown",
   "metadata": {},
   "source": [
    "## 5. Z-Score with NumPy and SciPy"
   ]
  },
  {
   "cell_type": "markdown",
   "metadata": {},
   "source": [
    "In a real-world scenario, you might have a large dataset. Libraries like **NumPy** and **SciPy** in Python can make Z-score calculations much more efficient."
   ]
  },
  {
   "cell_type": "code",
   "execution_count": 3,
   "metadata": {},
   "outputs": [
    {
     "name": "stdout",
     "output_type": "stream",
     "text": [
      "Z-scores calculated with NumPy:\n",
      " [-0.12451171  0.54593594  1.21638359 -1.84851994 -0.41184641  0.83327065\n",
      "  1.50371829 -1.08229406  0.06704476 -0.69918112]\n",
      "\n",
      "Z-scores calculated with SciPy:\n",
      " [-0.12451171  0.54593594  1.21638359 -1.84851994 -0.41184641  0.83327065\n",
      "  1.50371829 -1.08229406  0.06704476 -0.69918112]\n"
     ]
    }
   ],
   "source": [
    "# Import necessary libraries\n",
    "import numpy as np\n",
    "from scipy import stats\n",
    "\n",
    "# Create a sample dataset (e.g., student scores)\n",
    "data = np.array([78, 85, 92, 60, 75, 88, 95, 68, 80, 72])\n",
    "\n",
    "# Method 1: Manual Calculation with NumPy\n",
    "mean_np = np.mean(data)\n",
    "std_dev_np = np.std(data)\n",
    "\n",
    "# Calculate Z-scores for the entire array\n",
    "z_scores_np = (data - mean_np) / std_dev_np\n",
    "\n",
    "print(\"Z-scores calculated with NumPy:\\n\", z_scores_np)\n",
    "\n",
    "# Method 2: Using SciPy's `stats.zscore` function\n",
    "# This is a more direct and recommended way\n",
    "z_scores_scipy = stats.zscore(data)\n",
    "\n",
    "print(\"\\nZ-scores calculated with SciPy:\\n\", z_scores_scipy)\n",
    "\n",
    "# Interpretation: The Z-scores tell us how many standard deviations each score is from the mean of the dataset."
   ]
  },
  {
   "cell_type": "markdown",
   "metadata": {},
   "source": [
    "## 6. Z-Score and Machine Learning: The StandardScaler"
   ]
  },
  {
   "cell_type": "markdown",
   "metadata": {},
   "source": [
    "In machine learning, standardizing features is a crucial preprocessing step. The `StandardScaler` from the `scikit-learn` library is a powerful tool for this. It applies the Z-score formula to each feature (column) of a dataset independently."
   ]
  },
  {
   "cell_type": "markdown",
   "metadata": {},
   "source": [
    "### Understanding `fit`, `transform`, and `fit_transform`\n",
    "\n",
    "- **`.fit(data)`:** This method calculates the mean ($$\\mu$$) and standard deviation ($$\\sigma$$) of the training data. It **learns** the parameters necessary for scaling. It does not modify the data itself.\n",
    "\n",
    "- **`.transform(data)`:** This method applies the standardization to the data using the mean and standard deviation learned during the `fit` step. It standardizes the data by subtracting the learned mean and dividing by the learned standard deviation.\n",
    "\n",
    "- **`.fit_transform(data)`:** This is a convenience method that performs both `fit` and `transform` in one step. It is typically used on the **training data** to learn the parameters and then apply the transformation immediately.\n",
    "\n",
    "### Why separate `fit` and `transform`?\n",
    "\n",
    "It's crucial to `fit` the scaler **only** on the training data to prevent **data leakage**. The parameters learned from the training set should be used to transform both the training data and the test data. We use `fit_transform()` on the training data and just `transform()` on the test data."
   ]
  },
  {
   "cell_type": "code",
   "execution_count": 4,
   "metadata": {},
   "outputs": [
    {
     "name": "stdout",
     "output_type": "stream",
     "text": [
      "Original Training Data:\n",
      " [[1.0e+04 2.0e+00]\n",
      " [1.2e+04 3.0e+00]\n",
      " [5.0e+03 1.0e+00]\n",
      " [8.0e+03 2.5e+00]]\n",
      "\n",
      "Scaled Training Data (using fit_transform):\n",
      " [[ 0.48336824 -0.16903085]\n",
      " [ 1.25675744  1.18321596]\n",
      " [-1.45010473 -1.52127766]\n",
      " [-0.29002095  0.50709255]]\n",
      "\n",
      "Original Test Data:\n",
      " [[1.1e+04 2.8e+00]\n",
      " [6.0e+03 1.2e+00]]\n",
      "\n",
      "Scaled Test Data (using transform):\n",
      " [[ 0.87006284  0.9127666 ]\n",
      " [-1.06341014 -1.2508283 ]]\n",
      "\n",
      "Learned Mean of the features: [8.750e+03 2.125e+00]\n",
      "Learned Standard Deviation of the features: [2.58602011e+03 7.39509973e-01]\n"
     ]
    }
   ],
   "source": [
    "# Import StandardScaler from scikit-learn\n",
    "from sklearn.preprocessing import StandardScaler\n",
    "import numpy as np\n",
    "\n",
    "# Create a sample dataset (e.g., features for a machine learning model)\n",
    "# This is our training data\n",
    "train_data = np.array([\n",
    "    [10000, 2],\n",
    "    [12000, 3],\n",
    "    [5000, 1],\n",
    "    [8000, 2.5]\n",
    "])\n",
    "\n",
    "# Instantiate the StandardScaler object\n",
    "scaler = StandardScaler()\n",
    "\n",
    "# Use fit_transform() on the training data\n",
    "# This learns the mean and std dev and then applies the transformation\n",
    "train_scaled = scaler.fit_transform(train_data)\n",
    "\n",
    "print(\"Original Training Data:\\n\", train_data)\n",
    "print(\"\\nScaled Training Data (using fit_transform):\\n\", train_scaled)\n",
    "\n",
    "# Now, let's say we have new data to test our model\n",
    "test_data = np.array([\n",
    "    [11000, 2.8],\n",
    "    [6000, 1.2]\n",
    "])\n",
    "\n",
    "# Use only transform() on the new test data\n",
    "# We MUST NOT use fit() again to avoid data leakage\n",
    "test_scaled = scaler.transform(test_data)\n",
    "\n",
    "print(\"\\nOriginal Test Data:\\n\", test_data)\n",
    "print(\"\\nScaled Test Data (using transform):\\n\", test_scaled)\n",
    "\n",
    "# You can inspect the learned parameters\n",
    "print(\"\\nLearned Mean of the features:\", scaler.mean_)\n",
    "print(\"Learned Standard Deviation of the features:\", scaler.scale_)"
   ]
  },
  {
   "cell_type": "markdown",
   "metadata": {},
   "source": [
    "## 7. Applications of Z-Score"
   ]
  },
  {
   "cell_type": "markdown",
   "metadata": {},
   "source": [
    "Z-scores and standardization are widely used in various fields:\n",
    "\n",
    "- **Finance:** Comparing the performance of different stocks or portfolios.\n",
    "- **Healthcare:** Standardizing lab results (e.g., blood pressure, cholesterol levels) to identify abnormal readings.\n",
    "- **Quality Control:** In manufacturing, Z-scores can monitor if products are within acceptable deviation from the standard specifications.\n",
    "- **Social Sciences:** Analyzing survey data to compare responses across different groups.\n",
    "- **Machine Learning:** Standardizing features for algorithms that are sensitive to the magnitude of the features (e.g., Support Vector Machines, K-Nearest Neighbors, neural networks)."
   ]
  }
 ],
 "metadata": {
  "kernelspec": {
   "display_name": "base",
   "language": "python",
   "name": "python3"
  },
  "language_info": {
   "codemirror_mode": {
    "name": "ipython",
    "version": 3
   },
   "file_extension": ".py",
   "mimetype": "text/x-python",
   "name": "python",
   "nbconvert_exporter": "python",
   "pygments_lexer": "ipython3",
   "version": "3.12.9"
  }
 },
 "nbformat": 4,
 "nbformat_minor": 4
}
